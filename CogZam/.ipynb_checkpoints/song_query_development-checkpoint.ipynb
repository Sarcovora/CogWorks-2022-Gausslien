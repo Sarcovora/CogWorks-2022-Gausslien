{
 "cells": [
  {
   "cell_type": "code",
   "execution_count": 1,
   "metadata": {},
   "outputs": [],
   "source": [
    "from CogZam import store_fingerprint, store_song, getFile, load_fp_database, load_song_database, query_database, userinput, getFingerprints, peak_extract, tally_results\n",
    "import pickle\n",
    "import numpy as np"
   ]
  },
  {
   "cell_type": "code",
   "execution_count": 2,
   "metadata": {},
   "outputs": [
    {
     "name": "stdout",
     "output_type": "stream",
     "text": [
      "u for Upload, r for Record: r\n",
      "Using input device 'Intel 82801AA-ICH: - (hw:0,0)'\n",
      "Recording ended\n",
      "[((2, 308), 53), ((2, 77), 2), ((7, 144), 1), ((2, 307), 1), ((8, 31), 1), ((5, 249), 1), ((9, 172), 1), ((2, 44), 1), ((10, -98), 1), ((1, 112), 1), ((0, 9), 1), ((5, -71), 1)] 12\n",
      "The song is Waves by Dean Lewis.\n"
     ]
    }
   ],
   "source": [
    "fp_database = load_fp_database()\n",
    "song_database = load_song_database()\n",
    "\n",
    "samples, sample_rate = userinput()\n",
    "\n",
    "peaks = peak_extract(samples, sample_rate)\n",
    "fingerprints = getFingerprints(peaks)\n",
    "\n",
    "matches = {}\n",
    "q_songs = []\n",
    "\n",
    "for f in fingerprints:\n",
    "\tq_songs.extend(query_database(fp_database, f[0], f[1])) # [(songid, offset), (songid, offset), ...]\n",
    "\n",
    "\n",
    "print((tally_results(tuple(q_songs), min_tally=1, song_database=song_database))) # change min_tally later\n"
   ]
  },
  {
   "cell_type": "code",
   "execution_count": null,
   "metadata": {},
   "outputs": [],
   "source": []
  }
 ],
 "metadata": {
  "kernelspec": {
   "display_name": "Python 3 (ipykernel)",
   "language": "python",
   "name": "python3"
  },
  "language_info": {
   "codemirror_mode": {
    "name": "ipython",
    "version": 3
   },
   "file_extension": ".py",
   "mimetype": "text/x-python",
   "name": "python",
   "nbconvert_exporter": "python",
   "pygments_lexer": "ipython3",
   "version": "3.8.13"
  },
  "vscode": {
   "interpreter": {
    "hash": "ee6b2ca62c0b04017eb27f0bcbd80917aa48ef68f52a6b6ab05c4b88da1e15a2"
   }
  }
 },
 "nbformat": 4,
 "nbformat_minor": 2
}
