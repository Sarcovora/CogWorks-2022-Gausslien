{
 "cells": [
  {
   "cell_type": "code",
   "execution_count": 18,
   "metadata": {
    "scrolled": true
   },
   "outputs": [
    {
     "name": "stdout",
     "output_type": "stream",
     "text": [
      "[('../songs/Original/Ob-La-Di, Ob-La-Da - The Beatles.mp3', 'Ob-La-Di, Ob-La-Da - The Beatles.mp3'), ('../songs/Original/Don_t Cry - J Dilla.mp3', 'Don_t Cry - J Dilla.mp3'), ('../songs/Original/Yesterday - The Beatles.mp3', 'Yesterday - The Beatles.mp3'), ('../songs/Original/You Make My Dreams - Daryl Hall _ John Oates .mp3', 'You Make My Dreams - Daryl Hall _ John Oates .mp3'), ('../songs/Original/In My Life - The Beatles.mp3', 'In My Life - The Beatles.mp3'), ('../songs/Original/Here Comes The Sun - The Beatles.mp3', 'Here Comes The Sun - The Beatles.mp3'), ('../songs/Original/Hey Jude - The Beatles.mp3', 'Hey Jude - The Beatles.mp3'), ('../songs/Original/My Favorite Things - Outkast.mp3', 'My Favorite Things - Outkast.mp3'), ('../songs/Original/Dean Lewis - Waves.mp3', 'Dean Lewis - Waves.mp3'), ('../songs/Original/September - Earth, Wind, _ Fire.mp3', 'September - Earth, Wind, _ Fire.mp3'), ('../songs/Original/Never Gonna Give You Up - Rick Astley.mp3', 'Never Gonna Give You Up - Rick Astley.mp3')]\n",
      "Ob-La-Di, Ob-La-Da - The Beatles.mp3\n"
     ]
    },
    {
     "name": "stderr",
     "output_type": "stream",
     "text": [
      "/home/alanxw/miniconda3/envs/week1/lib/python3.8/site-packages/librosa/util/decorators.py:88: UserWarning: PySoundFile failed. Trying audioread instead.\n",
      "  return f(*args, **kwargs)\n"
     ]
    },
    {
     "ename": "KeyError",
     "evalue": "(149, 249, 0)",
     "output_type": "error",
     "traceback": [
      "\u001b[0;31m---------------------------------------------------------------------------\u001b[0m",
      "\u001b[0;31mKeyError\u001b[0m                                  Traceback (most recent call last)",
      "Input \u001b[0;32mIn [18]\u001b[0m, in \u001b[0;36m<cell line: 27>\u001b[0;34m()\u001b[0m\n\u001b[1;32m     33\u001b[0m peaks \u001b[38;5;241m=\u001b[39m peak_extract(samples[\u001b[38;5;241m0\u001b[39m], samples[\u001b[38;5;241m1\u001b[39m])\n\u001b[1;32m     34\u001b[0m fingerprints \u001b[38;5;241m=\u001b[39m getFingerprints(peaks)\n\u001b[0;32m---> 36\u001b[0m \u001b[43mstore_fingerprint\u001b[49m\u001b[43m(\u001b[49m\u001b[43mfingerprints\u001b[49m\u001b[43m,\u001b[49m\u001b[43m \u001b[49m\u001b[43msongID\u001b[49m\u001b[43m,\u001b[49m\u001b[43m \u001b[49m\u001b[43msongDB\u001b[49m\u001b[43m,\u001b[49m\u001b[43m \u001b[49m\u001b[43mfpDB\u001b[49m\u001b[43m)\u001b[49m\n\u001b[1;32m     37\u001b[0m store_song(songDB, title, artist, songID)\n\u001b[1;32m     39\u001b[0m songID\u001b[38;5;241m+\u001b[39m\u001b[38;5;241m=\u001b[39m\u001b[38;5;241m1\u001b[39m\n",
      "File \u001b[0;32m~/Github/CogWorks-2022-Gausslien/CogZam/store_fingersprints.py:5\u001b[0m, in \u001b[0;36mstore_fingerprint\u001b[0;34m(fanout, song_ID, song_database, fp_database)\u001b[0m\n\u001b[1;32m      3\u001b[0m     \u001b[38;5;28;01mreturn\u001b[39;00m \u001b[38;5;124m\"\u001b[39m\u001b[38;5;124mThat song ID is already in use\u001b[39m\u001b[38;5;124m\"\u001b[39m\n\u001b[1;32m      4\u001b[0m \u001b[38;5;28;01mfor\u001b[39;00m (fm, fn, dt), tm \u001b[38;5;129;01min\u001b[39;00m fanout:\n\u001b[0;32m----> 5\u001b[0m     \u001b[43mfp_database\u001b[49m\u001b[43m[\u001b[49m\u001b[43m(\u001b[49m\u001b[43mfm\u001b[49m\u001b[43m,\u001b[49m\u001b[43m \u001b[49m\u001b[43mfn\u001b[49m\u001b[43m,\u001b[49m\u001b[43m \u001b[49m\u001b[43mdt\u001b[49m\u001b[43m)\u001b[49m\u001b[43m]\u001b[49m\u001b[38;5;241m.\u001b[39mappend((song_ID, tm))\n\u001b[1;32m      6\u001b[0m \u001b[38;5;28;01mwith\u001b[39;00m \u001b[38;5;28mopen\u001b[39m(\u001b[38;5;124m\"\u001b[39m\u001b[38;5;124mfingerprint_database.pkl\u001b[39m\u001b[38;5;124m\"\u001b[39m, mode\u001b[38;5;241m=\u001b[39m\u001b[38;5;124m\"\u001b[39m\u001b[38;5;124mwb\u001b[39m\u001b[38;5;124m\"\u001b[39m) \u001b[38;5;28;01mas\u001b[39;00m f:\n\u001b[1;32m      7\u001b[0m     pickle\u001b[38;5;241m.\u001b[39mdump(fp_database, f)\n",
      "\u001b[0;31mKeyError\u001b[0m: (149, 249, 0)"
     ]
    }
   ],
   "source": [
    "from CogZam import store_fingerprint, store_song, peak_extract, getFingerprints\n",
    "from CogZam.recordingtoarray import getFile\n",
    "import pickle\n",
    "import numpy as np\n",
    "import os\n",
    "\n",
    "# assign directory\n",
    "directory = '../songs/Original'\n",
    " \n",
    "# iterate over files in\n",
    "# that directory\n",
    "fileList = []\n",
    "\n",
    "for filename in os.listdir(directory):\n",
    "    f = os.path.join(directory, filename)\n",
    "    if os.path.isfile(f):\n",
    "        fileList.append((f, filename))\n",
    "\n",
    "massiveList = []\n",
    "songDB = {}\n",
    "fpDB = {}\n",
    "\n",
    "print(fileList)\n",
    "\n",
    "songID=0\n",
    "\n",
    "for fileInfo in fileList:\n",
    "    print(fileInfo[1])\n",
    "    \n",
    "    samples = getFile(fileInfo[0])\n",
    "    title, artist = fileInfo[1][:-4].split(\" - \")\n",
    "    \n",
    "    peaks = peak_extract(samples[0], samples[1])\n",
    "    fingerprints = getFingerprints(peaks)\n",
    "    \n",
    "    store_fingerprint(fingerprints, songID, songDB, fpDB)\n",
    "    store_song(songDB, title, artist, songID)\n",
    "    \n",
    "    songID+=1\n"
   ]
  },
  {
   "cell_type": "code",
   "execution_count": null,
   "metadata": {},
   "outputs": [],
   "source": []
  }
 ],
 "metadata": {
  "kernelspec": {
   "display_name": "Python 3 (ipykernel)",
   "language": "python",
   "name": "python3"
  },
  "language_info": {
   "codemirror_mode": {
    "name": "ipython",
    "version": 3
   },
   "file_extension": ".py",
   "mimetype": "text/x-python",
   "name": "python",
   "nbconvert_exporter": "python",
   "pygments_lexer": "ipython3",
   "version": "3.8.13"
  },
  "vscode": {
   "interpreter": {
    "hash": "ee6b2ca62c0b04017eb27f0bcbd80917aa48ef68f52a6b6ab05c4b88da1e15a2"
   }
  }
 },
 "nbformat": 4,
 "nbformat_minor": 2
}
