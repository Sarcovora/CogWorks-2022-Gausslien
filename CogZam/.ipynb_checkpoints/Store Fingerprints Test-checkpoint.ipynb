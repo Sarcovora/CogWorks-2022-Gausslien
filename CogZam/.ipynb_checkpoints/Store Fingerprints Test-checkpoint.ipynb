{
 "cells": [
  {
   "cell_type": "code",
   "execution_count": null,
   "metadata": {},
   "outputs": [],
   "source": [
    "from CogZam import store_fingerprint\n",
    "import pickle\n",
    "\n",
    "# import required module\n",
    "import os\n",
    "# assign directory\n",
    "directory = '../songs/Original'\n",
    " \n",
    "# iterate over files in\n",
    "# that directory\n",
    "fileList = []\n",
    "\n",
    "for filename in os.listdir(directory):\n",
    "    f = os.path.join(directory, filename)\n",
    "    if os.path.isfile(f):\n",
    "        fileList.append(f)\n",
    "\n",
    "massiveList = []\n",
    "\n",
    "for i in fileList:\n",
    "    print(i)\n",
    "    samples = getFile(i)\n",
    "\n",
    "    peaks = peak_extract(samples[0], samples[1])\n",
    "    fingerprints = getFingerprints(peaks)\n",
    "    \n",
    "    store_fingerprint()"
   ]
  }
 ],
 "metadata": {
  "kernelspec": {
   "display_name": "Python 3 (ipykernel)",
   "language": "python",
   "name": "python3"
  },
  "language_info": {
   "codemirror_mode": {
    "name": "ipython",
    "version": 3
   },
   "file_extension": ".py",
   "mimetype": "text/x-python",
   "name": "python",
   "nbconvert_exporter": "python",
   "pygments_lexer": "ipython3",
   "version": "3.8.13"
  },
  "vscode": {
   "interpreter": {
    "hash": "ee6b2ca62c0b04017eb27f0bcbd80917aa48ef68f52a6b6ab05c4b88da1e15a2"
   }
  }
 },
 "nbformat": 4,
 "nbformat_minor": 2
}
