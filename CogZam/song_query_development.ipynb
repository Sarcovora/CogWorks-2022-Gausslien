{
 "cells": [
  {
   "cell_type": "code",
   "execution_count": 1,
   "metadata": {},
   "outputs": [],
   "source": [
    "from CogZam import store_fingerprint, store_song, getFile, load_fp_database, load_song_database, query_database, userinput, getFingerprints, peak_extract, tally_results\n",
    "import pickle\n",
    "import numpy as np"
   ]
  },
  {
   "cell_type": "code",
   "execution_count": 3,
   "metadata": {},
   "outputs": [
    {
     "name": "stderr",
     "output_type": "stream",
     "text": [
      "c:\\Users\\evan_\\.conda\\envs\\week1\\lib\\site-packages\\librosa\\util\\decorators.py:88: UserWarning: PySoundFile failed. Trying audioread instead.\n",
      "  return f(*args, **kwargs)\n"
     ]
    },
    {
     "name": "stdout",
     "output_type": "stream",
     "text": [
      "The song is Dean Lewis by Waves.\n"
     ]
    }
   ],
   "source": [
    "fp_database = load_fp_database()\n",
    "song_database = load_song_database()\n",
    "\n",
    "samples, sample_rate = userinput()\n",
    "\n",
    "peaks = peak_extract(samples, sample_rate)\n",
    "fingerprints = getFingerprints(peaks)\n",
    "\n",
    "matches = {}\n",
    "q_songs = []\n",
    "\n",
    "for f in fingerprints:\n",
    "\tq_songs.extend(query_database(fp_database, f[0], f[1])) # [(songid, offset), (songid, offset), ...]\n",
    "\n",
    "\n",
    "print((tally_results(tuple(q_songs), min_tally=1, song_database=song_database))) # change min_tally later\n"
   ]
  },
  {
   "cell_type": "code",
   "execution_count": null,
   "metadata": {},
   "outputs": [],
   "source": []
  }
 ],
 "metadata": {
  "kernelspec": {
   "display_name": "Python 3.8.13 ('week1')",
   "language": "python",
   "name": "python3"
  },
  "language_info": {
   "codemirror_mode": {
    "name": "ipython",
    "version": 3
   },
   "file_extension": ".py",
   "mimetype": "text/x-python",
   "name": "python",
   "nbconvert_exporter": "python",
   "pygments_lexer": "ipython3",
   "version": "3.8.13"
  },
  "orig_nbformat": 4,
  "vscode": {
   "interpreter": {
    "hash": "ee6b2ca62c0b04017eb27f0bcbd80917aa48ef68f52a6b6ab05c4b88da1e15a2"
   }
  }
 },
 "nbformat": 4,
 "nbformat_minor": 2
}
